{
  "nbformat": 4,
  "nbformat_minor": 0,
  "metadata": {
    "kernelspec": {
      "display_name": "Python 3",
      "language": "python",
      "name": "python3"
    },
    "language_info": {
      "codemirror_mode": {
        "name": "ipython",
        "version": 3
      },
      "file_extension": ".py",
      "mimetype": "text/x-python",
      "name": "python",
      "nbconvert_exporter": "python",
      "pygments_lexer": "ipython3",
      "version": "3.7.3"
    },
    "colab": {
      "name": "Uber Supply Demand.ipynb",
      "provenance": []
    }
  },
  "cells": [
    {
      "cell_type": "code",
      "metadata": {
        "id": "Uvj4hzcnJpkU"
      },
      "source": [
        "# supress warnings\n",
        "import warnings\n",
        "warnings.filterwarnings('ignore')"
      ],
      "execution_count": null,
      "outputs": []
    },
    {
      "cell_type": "markdown",
      "metadata": {
        "id": "iUnkZuapijkT"
      },
      "source": [
        "Import Libraries"
      ]
    },
    {
      "cell_type": "code",
      "metadata": {
        "id": "cmG64PpvJpkX"
      },
      "source": [
        "\n",
        "import numpy as np\n",
        "import pandas as pd\n",
        "import datetime as dt\n",
        "import matplotlib.pyplot as plt\n",
        "import seaborn as sns"
      ],
      "execution_count": null,
      "outputs": []
    },
    {
      "cell_type": "markdown",
      "metadata": {
        "id": "Pj1y0HXYJpkZ"
      },
      "source": [
        "### Data sourcing"
      ]
    },
    {
      "cell_type": "code",
      "metadata": {
        "colab": {
          "base_uri": "https://localhost:8080/",
          "height": 204
        },
        "id": "Y8xyGrM7JpkZ",
        "outputId": "e150062c-a9d8-444c-9251-cadcf30e68ea"
      },
      "source": [
        "uber = pd.read_csv(\"Uber Request Data.csv\")\n",
        "uber.head()"
      ],
      "execution_count": null,
      "outputs": [
        {
          "output_type": "execute_result",
          "data": {
            "text/html": [
              "<div>\n",
              "<style scoped>\n",
              "    .dataframe tbody tr th:only-of-type {\n",
              "        vertical-align: middle;\n",
              "    }\n",
              "\n",
              "    .dataframe tbody tr th {\n",
              "        vertical-align: top;\n",
              "    }\n",
              "\n",
              "    .dataframe thead th {\n",
              "        text-align: right;\n",
              "    }\n",
              "</style>\n",
              "<table border=\"1\" class=\"dataframe\">\n",
              "  <thead>\n",
              "    <tr style=\"text-align: right;\">\n",
              "      <th></th>\n",
              "      <th>Request id</th>\n",
              "      <th>Pickup point</th>\n",
              "      <th>Driver id</th>\n",
              "      <th>Status</th>\n",
              "      <th>Request timestamp</th>\n",
              "      <th>Drop timestamp</th>\n",
              "    </tr>\n",
              "  </thead>\n",
              "  <tbody>\n",
              "    <tr>\n",
              "      <th>0</th>\n",
              "      <td>619</td>\n",
              "      <td>Airport</td>\n",
              "      <td>1.0</td>\n",
              "      <td>Trip Completed</td>\n",
              "      <td>11/7/2016 11:51</td>\n",
              "      <td>11/7/2016 13:00</td>\n",
              "    </tr>\n",
              "    <tr>\n",
              "      <th>1</th>\n",
              "      <td>867</td>\n",
              "      <td>Airport</td>\n",
              "      <td>1.0</td>\n",
              "      <td>Trip Completed</td>\n",
              "      <td>11/7/2016 17:57</td>\n",
              "      <td>11/7/2016 18:47</td>\n",
              "    </tr>\n",
              "    <tr>\n",
              "      <th>2</th>\n",
              "      <td>1807</td>\n",
              "      <td>City</td>\n",
              "      <td>1.0</td>\n",
              "      <td>Trip Completed</td>\n",
              "      <td>12/7/2016 9:17</td>\n",
              "      <td>12/7/2016 9:58</td>\n",
              "    </tr>\n",
              "    <tr>\n",
              "      <th>3</th>\n",
              "      <td>2532</td>\n",
              "      <td>Airport</td>\n",
              "      <td>1.0</td>\n",
              "      <td>Trip Completed</td>\n",
              "      <td>12/7/2016 21:08</td>\n",
              "      <td>12/7/2016 22:03</td>\n",
              "    </tr>\n",
              "    <tr>\n",
              "      <th>4</th>\n",
              "      <td>3112</td>\n",
              "      <td>City</td>\n",
              "      <td>1.0</td>\n",
              "      <td>Trip Completed</td>\n",
              "      <td>13-07-2016 08:33:16</td>\n",
              "      <td>13-07-2016 09:25:47</td>\n",
              "    </tr>\n",
              "  </tbody>\n",
              "</table>\n",
              "</div>"
            ],
            "text/plain": [
              "   Request id Pickup point  ...    Request timestamp       Drop timestamp\n",
              "0         619      Airport  ...      11/7/2016 11:51      11/7/2016 13:00\n",
              "1         867      Airport  ...      11/7/2016 17:57      11/7/2016 18:47\n",
              "2        1807         City  ...       12/7/2016 9:17       12/7/2016 9:58\n",
              "3        2532      Airport  ...      12/7/2016 21:08      12/7/2016 22:03\n",
              "4        3112         City  ...  13-07-2016 08:33:16  13-07-2016 09:25:47\n",
              "\n",
              "[5 rows x 6 columns]"
            ]
          },
          "metadata": {
            "tags": []
          },
          "execution_count": 4
        }
      ]
    },
    {
      "cell_type": "code",
      "metadata": {
        "colab": {
          "base_uri": "https://localhost:8080/"
        },
        "id": "Mv1mjg26Jpkb",
        "outputId": "17048446-937b-417f-fb7c-a81462821766"
      },
      "source": [
        "#Inspecting the dataframe\n",
        "print(uber.shape)\n",
        "print(uber.info())\n",
        "print(uber.describe())"
      ],
      "execution_count": null,
      "outputs": [
        {
          "output_type": "stream",
          "text": [
            "(6745, 6)\n",
            "<class 'pandas.core.frame.DataFrame'>\n",
            "RangeIndex: 6745 entries, 0 to 6744\n",
            "Data columns (total 6 columns):\n",
            " #   Column             Non-Null Count  Dtype  \n",
            "---  ------             --------------  -----  \n",
            " 0   Request id         6745 non-null   int64  \n",
            " 1   Pickup point       6745 non-null   object \n",
            " 2   Driver id          4095 non-null   float64\n",
            " 3   Status             6745 non-null   object \n",
            " 4   Request timestamp  6745 non-null   object \n",
            " 5   Drop timestamp     2831 non-null   object \n",
            "dtypes: float64(1), int64(1), object(4)\n",
            "memory usage: 316.3+ KB\n",
            "None\n",
            "        Request id    Driver id\n",
            "count  6745.000000  4095.000000\n",
            "mean   3384.644922   149.501343\n",
            "std    1955.099667    86.051994\n",
            "min       1.000000     1.000000\n",
            "25%    1691.000000    75.000000\n",
            "50%    3387.000000   149.000000\n",
            "75%    5080.000000   224.000000\n",
            "max    6766.000000   300.000000\n"
          ],
          "name": "stdout"
        }
      ]
    },
    {
      "cell_type": "markdown",
      "metadata": {
        "id": "JQtrJFeZJpkc"
      },
      "source": [
        "### Checking for data quality issues and cleaning"
      ]
    },
    {
      "cell_type": "code",
      "metadata": {
        "colab": {
          "base_uri": "https://localhost:8080/",
          "height": 204
        },
        "id": "KRpxkxNrJpkc",
        "outputId": "ac410243-ce36-4aa1-c524-8df633cf9701"
      },
      "source": [
        "#replacing space in column with '_'\n",
        "uber.columns = uber.columns.str.replace(' ', '_')\n",
        "uber.head()"
      ],
      "execution_count": null,
      "outputs": [
        {
          "output_type": "execute_result",
          "data": {
            "text/html": [
              "<div>\n",
              "<style scoped>\n",
              "    .dataframe tbody tr th:only-of-type {\n",
              "        vertical-align: middle;\n",
              "    }\n",
              "\n",
              "    .dataframe tbody tr th {\n",
              "        vertical-align: top;\n",
              "    }\n",
              "\n",
              "    .dataframe thead th {\n",
              "        text-align: right;\n",
              "    }\n",
              "</style>\n",
              "<table border=\"1\" class=\"dataframe\">\n",
              "  <thead>\n",
              "    <tr style=\"text-align: right;\">\n",
              "      <th></th>\n",
              "      <th>Request_id</th>\n",
              "      <th>Pickup_point</th>\n",
              "      <th>Driver_id</th>\n",
              "      <th>Status</th>\n",
              "      <th>Request_timestamp</th>\n",
              "      <th>Drop_timestamp</th>\n",
              "    </tr>\n",
              "  </thead>\n",
              "  <tbody>\n",
              "    <tr>\n",
              "      <th>0</th>\n",
              "      <td>619</td>\n",
              "      <td>Airport</td>\n",
              "      <td>1.0</td>\n",
              "      <td>Trip Completed</td>\n",
              "      <td>11/7/2016 11:51</td>\n",
              "      <td>11/7/2016 13:00</td>\n",
              "    </tr>\n",
              "    <tr>\n",
              "      <th>1</th>\n",
              "      <td>867</td>\n",
              "      <td>Airport</td>\n",
              "      <td>1.0</td>\n",
              "      <td>Trip Completed</td>\n",
              "      <td>11/7/2016 17:57</td>\n",
              "      <td>11/7/2016 18:47</td>\n",
              "    </tr>\n",
              "    <tr>\n",
              "      <th>2</th>\n",
              "      <td>1807</td>\n",
              "      <td>City</td>\n",
              "      <td>1.0</td>\n",
              "      <td>Trip Completed</td>\n",
              "      <td>12/7/2016 9:17</td>\n",
              "      <td>12/7/2016 9:58</td>\n",
              "    </tr>\n",
              "    <tr>\n",
              "      <th>3</th>\n",
              "      <td>2532</td>\n",
              "      <td>Airport</td>\n",
              "      <td>1.0</td>\n",
              "      <td>Trip Completed</td>\n",
              "      <td>12/7/2016 21:08</td>\n",
              "      <td>12/7/2016 22:03</td>\n",
              "    </tr>\n",
              "    <tr>\n",
              "      <th>4</th>\n",
              "      <td>3112</td>\n",
              "      <td>City</td>\n",
              "      <td>1.0</td>\n",
              "      <td>Trip Completed</td>\n",
              "      <td>13-07-2016 08:33:16</td>\n",
              "      <td>13-07-2016 09:25:47</td>\n",
              "    </tr>\n",
              "  </tbody>\n",
              "</table>\n",
              "</div>"
            ],
            "text/plain": [
              "   Request_id Pickup_point  ...    Request_timestamp       Drop_timestamp\n",
              "0         619      Airport  ...      11/7/2016 11:51      11/7/2016 13:00\n",
              "1         867      Airport  ...      11/7/2016 17:57      11/7/2016 18:47\n",
              "2        1807         City  ...       12/7/2016 9:17       12/7/2016 9:58\n",
              "3        2532      Airport  ...      12/7/2016 21:08      12/7/2016 22:03\n",
              "4        3112         City  ...  13-07-2016 08:33:16  13-07-2016 09:25:47\n",
              "\n",
              "[5 rows x 6 columns]"
            ]
          },
          "metadata": {
            "tags": []
          },
          "execution_count": 6
        }
      ]
    },
    {
      "cell_type": "code",
      "metadata": {
        "colab": {
          "base_uri": "https://localhost:8080/"
        },
        "id": "Lw_hDGTrJpkd",
        "outputId": "b3a472a6-d314-483a-b8e7-e0cb040632e3"
      },
      "source": [
        "#checking for any duplicate rows\n",
        "uber.duplicated(subset='Request_id',keep= False).sum()"
      ],
      "execution_count": null,
      "outputs": [
        {
          "output_type": "execute_result",
          "data": {
            "text/plain": [
              "0"
            ]
          },
          "metadata": {
            "tags": []
          },
          "execution_count": 7
        }
      ]
    },
    {
      "cell_type": "code",
      "metadata": {
        "colab": {
          "base_uri": "https://localhost:8080/"
        },
        "id": "7yIe7f4xJpkf",
        "outputId": "42fb337b-d931-4e43-b44c-291256cdffd6"
      },
      "source": [
        "#checking  Pickup point unique values\n",
        "uber['Pickup_point'].unique()\n"
      ],
      "execution_count": null,
      "outputs": [
        {
          "output_type": "execute_result",
          "data": {
            "text/plain": [
              "array(['Airport', 'City'], dtype=object)"
            ]
          },
          "metadata": {
            "tags": []
          },
          "execution_count": 9
        }
      ]
    },
    {
      "cell_type": "code",
      "metadata": {
        "colab": {
          "base_uri": "https://localhost:8080/"
        },
        "id": "aNDhrj0TJpkg",
        "outputId": "7fd8f8a6-5f96-411d-fde9-0e4a59072915"
      },
      "source": [
        "#checking  status unique values\n",
        "uber['Status'].unique()"
      ],
      "execution_count": null,
      "outputs": [
        {
          "output_type": "execute_result",
          "data": {
            "text/plain": [
              "array(['Trip Completed', 'Cancelled', 'No Cars Available'], dtype=object)"
            ]
          },
          "metadata": {
            "tags": []
          },
          "execution_count": 10
        }
      ]
    },
    {
      "cell_type": "code",
      "metadata": {
        "colab": {
          "base_uri": "https://localhost:8080/"
        },
        "id": "0mSDoraqJpkg",
        "outputId": "329b8c99-9542-416e-a500-bcf29b162a6c"
      },
      "source": [
        "#Inspecting Null values\n",
        "uber.isnull().sum()"
      ],
      "execution_count": null,
      "outputs": [
        {
          "output_type": "execute_result",
          "data": {
            "text/plain": [
              "Request_id              0\n",
              "Pickup_point            0\n",
              "Driver_id            2650\n",
              "Status                  0\n",
              "Request_timestamp       0\n",
              "Drop_timestamp       3914\n",
              "dtype: int64"
            ]
          },
          "metadata": {
            "tags": []
          },
          "execution_count": 11
        }
      ]
    },
    {
      "cell_type": "markdown",
      "metadata": {
        "id": "4LQZ0gsWJpkh"
      },
      "source": [
        "### Data preparation"
      ]
    },
    {
      "cell_type": "code",
      "metadata": {
        "colab": {
          "base_uri": "https://localhost:8080/",
          "height": 204
        },
        "id": "alOLww83Jpkh",
        "outputId": "22660676-1655-4f6a-f7bf-b9729e1c8a19"
      },
      "source": [
        "#as we saw that'Request timestamp and Drop timestamp' is object type\n",
        "#converting Request timestamp and Drop timestamp to datetime type- by creating new columns\n",
        "\n",
        "uber['request_Date_Time'] = pd.to_datetime(uber['Request_timestamp'],dayfirst=True)\n",
        "uber['drop_Date_Time'] = pd.to_datetime(uber['Drop_timestamp'],dayfirst=True)\n",
        "uber.head()\n"
      ],
      "execution_count": null,
      "outputs": [
        {
          "output_type": "execute_result",
          "data": {
            "text/html": [
              "<div>\n",
              "<style scoped>\n",
              "    .dataframe tbody tr th:only-of-type {\n",
              "        vertical-align: middle;\n",
              "    }\n",
              "\n",
              "    .dataframe tbody tr th {\n",
              "        vertical-align: top;\n",
              "    }\n",
              "\n",
              "    .dataframe thead th {\n",
              "        text-align: right;\n",
              "    }\n",
              "</style>\n",
              "<table border=\"1\" class=\"dataframe\">\n",
              "  <thead>\n",
              "    <tr style=\"text-align: right;\">\n",
              "      <th></th>\n",
              "      <th>Request_id</th>\n",
              "      <th>Pickup_point</th>\n",
              "      <th>Driver_id</th>\n",
              "      <th>Status</th>\n",
              "      <th>Request_timestamp</th>\n",
              "      <th>Drop_timestamp</th>\n",
              "      <th>request_Date_Time</th>\n",
              "      <th>drop_Date_Time</th>\n",
              "    </tr>\n",
              "  </thead>\n",
              "  <tbody>\n",
              "    <tr>\n",
              "      <th>0</th>\n",
              "      <td>619</td>\n",
              "      <td>Airport</td>\n",
              "      <td>1.0</td>\n",
              "      <td>Trip Completed</td>\n",
              "      <td>11/7/2016 11:51</td>\n",
              "      <td>11/7/2016 13:00</td>\n",
              "      <td>2016-07-11 11:51:00</td>\n",
              "      <td>2016-07-11 13:00:00</td>\n",
              "    </tr>\n",
              "    <tr>\n",
              "      <th>1</th>\n",
              "      <td>867</td>\n",
              "      <td>Airport</td>\n",
              "      <td>1.0</td>\n",
              "      <td>Trip Completed</td>\n",
              "      <td>11/7/2016 17:57</td>\n",
              "      <td>11/7/2016 18:47</td>\n",
              "      <td>2016-07-11 17:57:00</td>\n",
              "      <td>2016-07-11 18:47:00</td>\n",
              "    </tr>\n",
              "    <tr>\n",
              "      <th>2</th>\n",
              "      <td>1807</td>\n",
              "      <td>City</td>\n",
              "      <td>1.0</td>\n",
              "      <td>Trip Completed</td>\n",
              "      <td>12/7/2016 9:17</td>\n",
              "      <td>12/7/2016 9:58</td>\n",
              "      <td>2016-07-12 09:17:00</td>\n",
              "      <td>2016-07-12 09:58:00</td>\n",
              "    </tr>\n",
              "    <tr>\n",
              "      <th>3</th>\n",
              "      <td>2532</td>\n",
              "      <td>Airport</td>\n",
              "      <td>1.0</td>\n",
              "      <td>Trip Completed</td>\n",
              "      <td>12/7/2016 21:08</td>\n",
              "      <td>12/7/2016 22:03</td>\n",
              "      <td>2016-07-12 21:08:00</td>\n",
              "      <td>2016-07-12 22:03:00</td>\n",
              "    </tr>\n",
              "    <tr>\n",
              "      <th>4</th>\n",
              "      <td>3112</td>\n",
              "      <td>City</td>\n",
              "      <td>1.0</td>\n",
              "      <td>Trip Completed</td>\n",
              "      <td>13-07-2016 08:33:16</td>\n",
              "      <td>13-07-2016 09:25:47</td>\n",
              "      <td>2016-07-13 08:33:16</td>\n",
              "      <td>2016-07-13 09:25:47</td>\n",
              "    </tr>\n",
              "  </tbody>\n",
              "</table>\n",
              "</div>"
            ],
            "text/plain": [
              "   Request_id Pickup_point  ...   request_Date_Time      drop_Date_Time\n",
              "0         619      Airport  ... 2016-07-11 11:51:00 2016-07-11 13:00:00\n",
              "1         867      Airport  ... 2016-07-11 17:57:00 2016-07-11 18:47:00\n",
              "2        1807         City  ... 2016-07-12 09:17:00 2016-07-12 09:58:00\n",
              "3        2532      Airport  ... 2016-07-12 21:08:00 2016-07-12 22:03:00\n",
              "4        3112         City  ... 2016-07-13 08:33:16 2016-07-13 09:25:47\n",
              "\n",
              "[5 rows x 8 columns]"
            ]
          },
          "metadata": {
            "tags": []
          },
          "execution_count": 13
        }
      ]
    },
    {
      "cell_type": "code",
      "metadata": {
        "colab": {
          "base_uri": "https://localhost:8080/"
        },
        "id": "27fn8coeJpki",
        "outputId": "60c54f55-f686-4d92-a768-dc8f4a709cff"
      },
      "source": [
        "#checking if request_Date_Time and drop_Date_Time got converted to datetime type or not\n",
        "uber.info()"
      ],
      "execution_count": null,
      "outputs": [
        {
          "output_type": "stream",
          "text": [
            "<class 'pandas.core.frame.DataFrame'>\n",
            "RangeIndex: 6745 entries, 0 to 6744\n",
            "Data columns (total 8 columns):\n",
            " #   Column             Non-Null Count  Dtype         \n",
            "---  ------             --------------  -----         \n",
            " 0   Request_id         6745 non-null   int64         \n",
            " 1   Pickup_point       6745 non-null   object        \n",
            " 2   Driver_id          4095 non-null   float64       \n",
            " 3   Status             6745 non-null   object        \n",
            " 4   Request_timestamp  6745 non-null   object        \n",
            " 5   Drop_timestamp     2831 non-null   object        \n",
            " 6   request_Date_Time  6745 non-null   datetime64[ns]\n",
            " 7   drop_Date_Time     2831 non-null   datetime64[ns]\n",
            "dtypes: datetime64[ns](2), float64(1), int64(1), object(4)\n",
            "memory usage: 421.7+ KB\n"
          ],
          "name": "stdout"
        }
      ]
    },
    {
      "cell_type": "code",
      "metadata": {
        "colab": {
          "base_uri": "https://localhost:8080/",
          "height": 204
        },
        "id": "5C-HS9zMJpkj",
        "outputId": "84a5c433-75db-4471-e21f-c78b391b0545"
      },
      "source": [
        "#dropping Request_timestamp column and Drop_timestamp  as it is not required any further\n",
        "uber = uber.drop('Request_timestamp', axis=1)\n",
        "uber = uber.drop('Drop_timestamp', axis=1)\n",
        "uber.head()"
      ],
      "execution_count": null,
      "outputs": [
        {
          "output_type": "execute_result",
          "data": {
            "text/html": [
              "<div>\n",
              "<style scoped>\n",
              "    .dataframe tbody tr th:only-of-type {\n",
              "        vertical-align: middle;\n",
              "    }\n",
              "\n",
              "    .dataframe tbody tr th {\n",
              "        vertical-align: top;\n",
              "    }\n",
              "\n",
              "    .dataframe thead th {\n",
              "        text-align: right;\n",
              "    }\n",
              "</style>\n",
              "<table border=\"1\" class=\"dataframe\">\n",
              "  <thead>\n",
              "    <tr style=\"text-align: right;\">\n",
              "      <th></th>\n",
              "      <th>Request_id</th>\n",
              "      <th>Pickup_point</th>\n",
              "      <th>Driver_id</th>\n",
              "      <th>Status</th>\n",
              "      <th>request_Date_Time</th>\n",
              "      <th>drop_Date_Time</th>\n",
              "    </tr>\n",
              "  </thead>\n",
              "  <tbody>\n",
              "    <tr>\n",
              "      <th>0</th>\n",
              "      <td>619</td>\n",
              "      <td>Airport</td>\n",
              "      <td>1.0</td>\n",
              "      <td>Trip Completed</td>\n",
              "      <td>2016-07-11 11:51:00</td>\n",
              "      <td>2016-07-11 13:00:00</td>\n",
              "    </tr>\n",
              "    <tr>\n",
              "      <th>1</th>\n",
              "      <td>867</td>\n",
              "      <td>Airport</td>\n",
              "      <td>1.0</td>\n",
              "      <td>Trip Completed</td>\n",
              "      <td>2016-07-11 17:57:00</td>\n",
              "      <td>2016-07-11 18:47:00</td>\n",
              "    </tr>\n",
              "    <tr>\n",
              "      <th>2</th>\n",
              "      <td>1807</td>\n",
              "      <td>City</td>\n",
              "      <td>1.0</td>\n",
              "      <td>Trip Completed</td>\n",
              "      <td>2016-07-12 09:17:00</td>\n",
              "      <td>2016-07-12 09:58:00</td>\n",
              "    </tr>\n",
              "    <tr>\n",
              "      <th>3</th>\n",
              "      <td>2532</td>\n",
              "      <td>Airport</td>\n",
              "      <td>1.0</td>\n",
              "      <td>Trip Completed</td>\n",
              "      <td>2016-07-12 21:08:00</td>\n",
              "      <td>2016-07-12 22:03:00</td>\n",
              "    </tr>\n",
              "    <tr>\n",
              "      <th>4</th>\n",
              "      <td>3112</td>\n",
              "      <td>City</td>\n",
              "      <td>1.0</td>\n",
              "      <td>Trip Completed</td>\n",
              "      <td>2016-07-13 08:33:16</td>\n",
              "      <td>2016-07-13 09:25:47</td>\n",
              "    </tr>\n",
              "  </tbody>\n",
              "</table>\n",
              "</div>"
            ],
            "text/plain": [
              "   Request_id Pickup_point  ...   request_Date_Time      drop_Date_Time\n",
              "0         619      Airport  ... 2016-07-11 11:51:00 2016-07-11 13:00:00\n",
              "1         867      Airport  ... 2016-07-11 17:57:00 2016-07-11 18:47:00\n",
              "2        1807         City  ... 2016-07-12 09:17:00 2016-07-12 09:58:00\n",
              "3        2532      Airport  ... 2016-07-12 21:08:00 2016-07-12 22:03:00\n",
              "4        3112         City  ... 2016-07-13 08:33:16 2016-07-13 09:25:47\n",
              "\n",
              "[5 rows x 6 columns]"
            ]
          },
          "metadata": {
            "tags": []
          },
          "execution_count": 16
        }
      ]
    },
    {
      "cell_type": "code",
      "metadata": {
        "colab": {
          "base_uri": "https://localhost:8080/"
        },
        "id": "N_aj_D5uJpkj",
        "outputId": "20777abb-bf50-4eee-9c9b-fbac3d49e1f5"
      },
      "source": [
        "#Inspecting the dataframe after the drop\n",
        "print(uber.shape)\n",
        "print(uber.info())"
      ],
      "execution_count": null,
      "outputs": [
        {
          "output_type": "stream",
          "text": [
            "(6745, 6)\n",
            "<class 'pandas.core.frame.DataFrame'>\n",
            "RangeIndex: 6745 entries, 0 to 6744\n",
            "Data columns (total 6 columns):\n",
            " #   Column             Non-Null Count  Dtype         \n",
            "---  ------             --------------  -----         \n",
            " 0   Request_id         6745 non-null   int64         \n",
            " 1   Pickup_point       6745 non-null   object        \n",
            " 2   Driver_id          4095 non-null   float64       \n",
            " 3   Status             6745 non-null   object        \n",
            " 4   request_Date_Time  6745 non-null   datetime64[ns]\n",
            " 5   drop_Date_Time     2831 non-null   datetime64[ns]\n",
            "dtypes: datetime64[ns](2), float64(1), int64(1), object(2)\n",
            "memory usage: 316.3+ KB\n",
            "None\n"
          ],
          "name": "stdout"
        }
      ]
    },
    {
      "cell_type": "markdown",
      "metadata": {
        "id": "ZQXzDy_XJpkj"
      },
      "source": [
        "#### Data preparation:\n",
        "#### i)Handling request_Date_Time"
      ]
    },
    {
      "cell_type": "code",
      "metadata": {
        "colab": {
          "base_uri": "https://localhost:8080/",
          "height": 183
        },
        "id": "U0AS8TiMJpkk",
        "outputId": "ac688bcd-98a2-4a11-abd0-08abaeec5186"
      },
      "source": [
        "#checking if there are any NA's coerced because of invalid values in request_Date_Time\n",
        "uber['request_Date_Time'].isna().sum()"
      ],
      "execution_count": null,
      "outputs": [
        {
          "output_type": "error",
          "ename": "NameError",
          "evalue": "ignored",
          "traceback": [
            "\u001b[0;31m---------------------------------------------------------------------------\u001b[0m",
            "\u001b[0;31mNameError\u001b[0m                                 Traceback (most recent call last)",
            "\u001b[0;32m<ipython-input-1-de84b768b3a9>\u001b[0m in \u001b[0;36m<module>\u001b[0;34m()\u001b[0m\n\u001b[1;32m      1\u001b[0m \u001b[0;31m#checking if there are any NA's coerced because of invalid values in request_Date_Time\u001b[0m\u001b[0;34m\u001b[0m\u001b[0;34m\u001b[0m\u001b[0;34m\u001b[0m\u001b[0m\n\u001b[0;32m----> 2\u001b[0;31m \u001b[0muber\u001b[0m\u001b[0;34m[\u001b[0m\u001b[0;34m'request_Date_Time'\u001b[0m\u001b[0;34m]\u001b[0m\u001b[0;34m.\u001b[0m\u001b[0misna\u001b[0m\u001b[0;34m(\u001b[0m\u001b[0;34m)\u001b[0m\u001b[0;34m.\u001b[0m\u001b[0msum\u001b[0m\u001b[0;34m(\u001b[0m\u001b[0;34m)\u001b[0m\u001b[0;34m\u001b[0m\u001b[0;34m\u001b[0m\u001b[0m\n\u001b[0m",
            "\u001b[0;31mNameError\u001b[0m: name 'uber' is not defined"
          ]
        }
      ]
    },
    {
      "cell_type": "code",
      "metadata": {
        "id": "T84c2LD0Jpkk"
      },
      "source": [
        "#extracting date and time from request_Date_Time\n",
        "\n",
        "uber['request_Date'] = uber['request_Date_Time'].dt.date\n",
        "uber['request_Time'] = uber['request_Date_Time'].dt.time\n",
        "uber.head()"
      ],
      "execution_count": null,
      "outputs": []
    },
    {
      "cell_type": "code",
      "metadata": {
        "id": "v2zt1fRZJpkk"
      },
      "source": [
        "#extracting day of week from request date time\n",
        "uber['weekname'] = uber['request_Date_Time'].dt.strftime(\"%A\")\n",
        "\n",
        "\n",
        "\n",
        "uber.head()"
      ],
      "execution_count": null,
      "outputs": []
    },
    {
      "cell_type": "code",
      "metadata": {
        "id": "GjorMg6zJpkl"
      },
      "source": [
        "#extracting hour,min and seconds from Request Date_Time\n",
        "\n",
        "uber['request_hour'] = uber['request_Date_Time'].dt.hour\n",
        "uber.head()"
      ],
      "execution_count": null,
      "outputs": []
    },
    {
      "cell_type": "code",
      "metadata": {
        "id": "6SFver2uJpkl"
      },
      "source": [
        "# creating slot of request hour\n",
        "uber.loc[uber['request_hour'].between(0,3, inclusive=True),'request_timeslot'] = 'Late night'\n",
        "uber.loc[uber['request_hour'].between(4,6, inclusive=True),'request_timeslot'] = 'Early morning'\n",
        "uber.loc[uber['request_hour'].between(7,12, inclusive=True),'request_timeslot'] = 'Morning'\n",
        "uber.loc[uber['request_hour'].between(13,17, inclusive=True),'request_timeslot'] = 'Afternoon'\n",
        "uber.loc[uber['request_hour'].between(18,20, inclusive=True),'request_timeslot'] = 'Evening'\n",
        "uber.loc[uber['request_hour'].between(21,24, inclusive=True),'request_timeslot'] = 'Night'\n",
        "uber.head()"
      ],
      "execution_count": null,
      "outputs": []
    },
    {
      "cell_type": "code",
      "metadata": {
        "id": "GjDhoGApJpkm"
      },
      "source": [
        "#checking if any new columns created has Na's\n",
        "uber.isna().sum()"
      ],
      "execution_count": null,
      "outputs": []
    },
    {
      "cell_type": "markdown",
      "metadata": {
        "id": "J3dczoOuJpkm"
      },
      "source": [
        "#### Data preparation:\n",
        "#### ii)Handling drop_Date_Time"
      ]
    },
    {
      "cell_type": "code",
      "metadata": {
        "colab": {
          "base_uri": "https://localhost:8080/",
          "height": 204
        },
        "id": "-U8FL-6gJpkm",
        "outputId": "8e26746b-7fac-4c4f-8be9-e4ea5ec5465d"
      },
      "source": [
        "#extracting date and time from drop_Date_Time\n",
        "\n",
        "uber['drop_Date'] = uber['drop_Date_Time'].dt.date\n",
        "uber['drop_Time'] = uber['drop_Date_Time'].dt.time\n",
        "\n",
        "uber.head()"
      ],
      "execution_count": null,
      "outputs": [
        {
          "output_type": "execute_result",
          "data": {
            "text/html": [
              "<div>\n",
              "<style scoped>\n",
              "    .dataframe tbody tr th:only-of-type {\n",
              "        vertical-align: middle;\n",
              "    }\n",
              "\n",
              "    .dataframe tbody tr th {\n",
              "        vertical-align: top;\n",
              "    }\n",
              "\n",
              "    .dataframe thead th {\n",
              "        text-align: right;\n",
              "    }\n",
              "</style>\n",
              "<table border=\"1\" class=\"dataframe\">\n",
              "  <thead>\n",
              "    <tr style=\"text-align: right;\">\n",
              "      <th></th>\n",
              "      <th>Request_id</th>\n",
              "      <th>Pickup_point</th>\n",
              "      <th>Driver_id</th>\n",
              "      <th>Status</th>\n",
              "      <th>request_Date_Time</th>\n",
              "      <th>drop_Date_Time</th>\n",
              "      <th>request_Date</th>\n",
              "      <th>request_Time</th>\n",
              "      <th>weekname</th>\n",
              "      <th>request_hour</th>\n",
              "      <th>request_timeslot</th>\n",
              "      <th>drop_Date</th>\n",
              "      <th>drop_Time</th>\n",
              "    </tr>\n",
              "  </thead>\n",
              "  <tbody>\n",
              "    <tr>\n",
              "      <th>0</th>\n",
              "      <td>619</td>\n",
              "      <td>Airport</td>\n",
              "      <td>1.0</td>\n",
              "      <td>Trip Completed</td>\n",
              "      <td>2016-07-11 11:51:00</td>\n",
              "      <td>2016-07-11 13:00:00</td>\n",
              "      <td>2016-07-11</td>\n",
              "      <td>11:51:00</td>\n",
              "      <td>Monday</td>\n",
              "      <td>11</td>\n",
              "      <td>Morning</td>\n",
              "      <td>2016-07-11</td>\n",
              "      <td>13:00:00</td>\n",
              "    </tr>\n",
              "    <tr>\n",
              "      <th>1</th>\n",
              "      <td>867</td>\n",
              "      <td>Airport</td>\n",
              "      <td>1.0</td>\n",
              "      <td>Trip Completed</td>\n",
              "      <td>2016-07-11 17:57:00</td>\n",
              "      <td>2016-07-11 18:47:00</td>\n",
              "      <td>2016-07-11</td>\n",
              "      <td>17:57:00</td>\n",
              "      <td>Monday</td>\n",
              "      <td>17</td>\n",
              "      <td>Afternoon</td>\n",
              "      <td>2016-07-11</td>\n",
              "      <td>18:47:00</td>\n",
              "    </tr>\n",
              "    <tr>\n",
              "      <th>2</th>\n",
              "      <td>1807</td>\n",
              "      <td>City</td>\n",
              "      <td>1.0</td>\n",
              "      <td>Trip Completed</td>\n",
              "      <td>2016-07-12 09:17:00</td>\n",
              "      <td>2016-07-12 09:58:00</td>\n",
              "      <td>2016-07-12</td>\n",
              "      <td>09:17:00</td>\n",
              "      <td>Tuesday</td>\n",
              "      <td>9</td>\n",
              "      <td>Morning</td>\n",
              "      <td>2016-07-12</td>\n",
              "      <td>09:58:00</td>\n",
              "    </tr>\n",
              "    <tr>\n",
              "      <th>3</th>\n",
              "      <td>2532</td>\n",
              "      <td>Airport</td>\n",
              "      <td>1.0</td>\n",
              "      <td>Trip Completed</td>\n",
              "      <td>2016-07-12 21:08:00</td>\n",
              "      <td>2016-07-12 22:03:00</td>\n",
              "      <td>2016-07-12</td>\n",
              "      <td>21:08:00</td>\n",
              "      <td>Tuesday</td>\n",
              "      <td>21</td>\n",
              "      <td>Night</td>\n",
              "      <td>2016-07-12</td>\n",
              "      <td>22:03:00</td>\n",
              "    </tr>\n",
              "    <tr>\n",
              "      <th>4</th>\n",
              "      <td>3112</td>\n",
              "      <td>City</td>\n",
              "      <td>1.0</td>\n",
              "      <td>Trip Completed</td>\n",
              "      <td>2016-07-13 08:33:16</td>\n",
              "      <td>2016-07-13 09:25:47</td>\n",
              "      <td>2016-07-13</td>\n",
              "      <td>08:33:16</td>\n",
              "      <td>Wednesday</td>\n",
              "      <td>8</td>\n",
              "      <td>Morning</td>\n",
              "      <td>2016-07-13</td>\n",
              "      <td>09:25:47</td>\n",
              "    </tr>\n",
              "  </tbody>\n",
              "</table>\n",
              "</div>"
            ],
            "text/plain": [
              "   Request_id Pickup_point  Driver_id  ... request_timeslot   drop_Date drop_Time\n",
              "0         619      Airport        1.0  ...          Morning  2016-07-11  13:00:00\n",
              "1         867      Airport        1.0  ...        Afternoon  2016-07-11  18:47:00\n",
              "2        1807         City        1.0  ...          Morning  2016-07-12  09:58:00\n",
              "3        2532      Airport        1.0  ...            Night  2016-07-12  22:03:00\n",
              "4        3112         City        1.0  ...          Morning  2016-07-13  09:25:47\n",
              "\n",
              "[5 rows x 13 columns]"
            ]
          },
          "metadata": {
            "tags": []
          },
          "execution_count": 26
        }
      ]
    },
    {
      "cell_type": "markdown",
      "metadata": {
        "id": "UamUDi-lJpkn"
      },
      "source": [
        "### Data analysis"
      ]
    },
    {
      "cell_type": "code",
      "metadata": {
        "colab": {
          "base_uri": "https://localhost:8080/",
          "height": 287
        },
        "id": "v1J4zK6_Jpkn",
        "outputId": "dde93271-5a25-49b1-8d42-501514344526"
      },
      "source": [
        "#looking for insight in pickup point\n",
        "sns.set(style=\"darkgrid\")\n",
        "ax = sns.countplot(x=\"Pickup_point\", data=uber)\n",
        "for p in ax.patches:\n",
        "    value = p.get_height()\n",
        "    X = p.get_x()+0.4\n",
        "    Y = p.get_height()+50\n",
        "    ax.text(X, Y, value, ha=\"center\")\n",
        "plt.show()\n",
        "\n",
        "#There isn't much difference in airport and city requests."
      ],
      "execution_count": null,
      "outputs": [
        {
          "output_type": "display_data",
          "data": {
            "image/png": "[encoded data removed]",
            "text/plain": [
              "<Figure size 432x288 with 1 Axes>"
            ]
          },
          "metadata": {
            "tags": []
          }
        }
      ]
    },
    {
      "cell_type": "code",
      "metadata": {
        "colab": {
          "base_uri": "https://localhost:8080/",
          "height": 502
        },
        "id": "A2dnOH_kJpkn",
        "outputId": "eccde081-e83d-4dbf-88f0-6a90cd9990eb"
      },
      "source": [
        "#looking for insight in status\n",
        "plt.figure(figsize=(10, 8))\n",
        "ax =sns.countplot(x=\"Status\", data=uber)\n",
        "total = len(uber)\n",
        "for p in ax.patches:\n",
        "    value = round((p.get_height()/total)*100,2)\n",
        "    X = p.get_x()+0.4\n",
        "    Y = p.get_height()+50\n",
        "    ax.text(X, Y, '{:} %'.format(value), ha=\"center\")\n",
        "plt.show()\n",
        "\n",
        "\n",
        "#Only 41.97% requests from city and airport request gets completed "
      ],
      "execution_count": null,
      "outputs": [
        {
          "output_type": "display_data",
          "data": {
            "image/png": "[encoded data removed]",
            "text/plain": [
              "<Figure size 720x576 with 1 Axes>"
            ]
          },
          "metadata": {
            "tags": []
          }
        }
      ]
    },
    {
      "cell_type": "code",
      "metadata": {
        "colab": {
          "base_uri": "https://localhost:8080/",
          "height": 502
        },
        "id": "-eYk8MDKJpko",
        "outputId": "33ec10cf-8c24-4749-95a9-0dcb733c44ab"
      },
      "source": [
        "#looking to find the request count vs daysof week\n",
        "plt.figure(num=None, figsize=(12, 8), facecolor='w', edgecolor='k')\n",
        "ax =sns.countplot(x='weekname', data=uber)\n",
        "for p in ax.patches:\n",
        "    value = p.get_height()\n",
        "    X = p.get_x()+0.4\n",
        "    Y = p.get_height()+20\n",
        "    ax.text(X, Y, value, ha=\"center\")\n",
        "plt.show()\n",
        "\n",
        "#There isn't much difference in requests vs days of the week"
      ],
      "execution_count": null,
      "outputs": [
        {
          "output_type": "display_data",
          "data": {
            "image/png": "[encoded data removed]",
            "text/plain": [
              "<Figure size 864x576 with 1 Axes>"
            ]
          },
          "metadata": {
            "tags": []
          }
        }
      ]
    },
    {
      "cell_type": "code",
      "metadata": {
        "colab": {
          "base_uri": "https://localhost:8080/",
          "height": 502
        },
        "id": "2Mrz2TmEJpko",
        "outputId": "04e21b78-2ed0-40a2-e703-e1af9d6f7340"
      },
      "source": [
        "#looking for insight in request hour\n",
        "plt.figure(num=None, figsize=(12, 8), facecolor='w', edgecolor='k')\n",
        "sns.countplot(x='request_hour', data=uber)\n",
        "plt.show()\n",
        "\n",
        "#The below plot clearly depicts that there are high request rates from 5am to 9am and 5pm to 10 pm"
      ],
      "execution_count": null,
      "outputs": [
        {
          "output_type": "display_data",
          "data": {
            "image/png": "[encoded data removed]",
            "text/plain": [
              "<Figure size 864x576 with 1 Axes>"
            ]
          },
          "metadata": {
            "tags": []
          }
        }
      ]
    },
    {
      "cell_type": "code",
      "metadata": {
        "colab": {
          "base_uri": "https://localhost:8080/",
          "height": 1000
        },
        "id": "4O0q3yjuJpkp",
        "outputId": "6d2b925c-c9ba-4d13-fc59-5d9e93b5924d"
      },
      "source": [
        "#to check if high request rates from 5am to 9am and 5pm to 10 pm is consistent throughout all days\n",
        "\n",
        "plt.figure(num=None, figsize=(20, 20), facecolor='w', edgecolor='b')\n",
        "sns.countplot(y='request_Date',hue=\"request_hour\", data=uber)\n",
        "plt.show()\n",
        "\n",
        "#shows that all dates high request rates is around the same time -5am to 9am and 5pm to 10 pm"
      ],
      "execution_count": null,
      "outputs": [
        {
          "output_type": "display_data",
          "data": {
            "image/png": "[encoded data removed]",
            "text/plain": [
              "<Figure size 1440x1440 with 1 Axes>"
            ]
          },
          "metadata": {
            "tags": []
          }
        }
      ]
    },
    {
      "cell_type": "code",
      "metadata": {
        "colab": {
          "base_uri": "https://localhost:8080/",
          "height": 502
        },
        "id": "ZbgFgJ6lJpkp",
        "outputId": "3871c977-21bd-4cd8-929a-ba5b7a78c9af"
      },
      "source": [
        "#looking for insight in request timeslot\n",
        "plt.figure(num=None, figsize=(12, 8), facecolor='w', edgecolor='b')\n",
        "ax =sns.countplot(x='request_timeslot', data=uber)\n",
        "total = len(uber)\n",
        "for p in ax.patches:\n",
        "    value = round((p.get_height()/total)*100,2)\n",
        "    X = p.get_x()+0.4\n",
        "    Y = p.get_height()+25\n",
        "    ax.text(X, Y, '{:} %'.format(value), ha=\"center\")\n",
        "plt.show()\n",
        "\n",
        "\n",
        "#From the below plot it is clear that most of the requests are raised in morning(27.55%) and evening(21.87%) slots\n",
        "#which is approx. same as the above plots- high request rates are from 5am to 9am and 5pm to 10 pm"
      ],
      "execution_count": null,
      "outputs": [
        {
          "output_type": "display_data",
          "data": {
            "image/png": "[encoded data removed]",
            "text/plain": [
              "<Figure size 864x576 with 1 Axes>"
            ]
          },
          "metadata": {
            "tags": []
          }
        }
      ]
    },
    {
      "cell_type": "markdown",
      "metadata": {
        "id": "Tcej2T_ZJpkq"
      },
      "source": [
        "#### Observations so far:\n",
        " 1. Only 41.97% requests from city and airport request gets completed \n",
        " 2. High request rates are from morning and evening slot"
      ]
    },
    {
      "cell_type": "code",
      "metadata": {
        "colab": {
          "base_uri": "https://localhost:8080/",
          "height": 502
        },
        "id": "hgc-Abp2Jpkq",
        "outputId": "3a888cf9-a851-4908-de43-805f8c0085da"
      },
      "source": [
        "# Segmenting the data:\n",
        "\n",
        "#segmenting pickup point over status\n",
        "plt.figure(num=None, figsize=(12, 8), facecolor='w', edgecolor='k')\n",
        "ax =sns.countplot(x='Pickup_point', hue=\"Status\", data=uber)\n",
        "total = len(uber)\n",
        "for p in ax.patches:\n",
        "    value = round((p.get_height()/total)*100,2)\n",
        "    X = p.get_x()+0.2\n",
        "    Y = p.get_height()+20\n",
        "    ax.text(X, Y, '{:} %'.format(value), ha=\"right\")\n",
        "plt.show()\n",
        "\n",
        "#The above plot shows that for most of the  Airport pickup requests there are no cars available \n",
        "#and most requests that get cancelled are from city pickup requests"
      ],
      "execution_count": null,
      "outputs": [
        {
          "output_type": "display_data",
          "data": {
            "image/png": "[encoded data removed]",
            "text/plain": [
              "<Figure size 864x576 with 1 Axes>"
            ]
          },
          "metadata": {
            "tags": []
          }
        }
      ]
    },
    {
      "cell_type": "code",
      "metadata": {
        "colab": {
          "base_uri": "https://localhost:8080/",
          "height": 502
        },
        "id": "Z1WDytNdJpkr",
        "outputId": "808cfbf4-4437-4bb5-c10d-01b083b38e49"
      },
      "source": [
        "#segmenting pickup point over time slot\n",
        "plt.figure(num=None, figsize=(12, 8), facecolor='w', edgecolor='k')\n",
        "sns.countplot(x='Pickup_point', hue=\"request_timeslot\", data=uber)\n",
        "plt.show()\n",
        "\n",
        "\n",
        "# Airport - has the hightest request in the evening\n",
        "# City- has the hightest request in the morning\n",
        "# From this graph our previous observation of high request rates of morning and evening slot gets clarified."
      ],
      "execution_count": null,
      "outputs": [
        {
          "output_type": "display_data",
          "data": {
            "image/png": "[encoded data removed]",
            "text/plain": [
              "<Figure size 864x576 with 1 Axes>"
            ]
          },
          "metadata": {
            "tags": []
          }
        }
      ]
    },
    {
      "cell_type": "code",
      "metadata": {
        "colab": {
          "base_uri": "https://localhost:8080/",
          "height": 454
        },
        "id": "Xf1DoO7xJpkr",
        "outputId": "39e6c011-7769-4396-c519-840ed734945e"
      },
      "source": [
        "#segmenting the timeslot vs both Status and pickup point \n",
        "\n",
        "sns.catplot(x='Pickup_point',col=\"Status\", hue = 'request_timeslot',data=uber ,kind=\"count\",\n",
        "            height=6,aspect= 0.7,ci=85,col_wrap=3,margin_titles=True)\n",
        "plt.show()\n",
        "\n",
        "\n",
        "#From the below plot it is evident that:\n",
        "#airport requests during the evening slot(during which there is high airport request rate)there are no cars available\n",
        "#Most city requests get cancelled in the morning slot(during which there is high city request rate) \n"
      ],
      "execution_count": null,
      "outputs": [
        {
          "output_type": "display_data",
          "data": {
            "image/png": "[encoded data removed]",
            "text/plain": [
              "<Figure size 1024.3x432 with 3 Axes>"
            ]
          },
          "metadata": {
            "tags": []
          }
        }
      ]
    },
    {
      "cell_type": "markdown",
      "metadata": {
        "id": "j9EsUwkoJpkr"
      },
      "source": [
        "#### Observation so far:\n",
        "\n",
        "The problematic status are cancelled and no cars available as it leads to potential loss of revenue. \n",
        "1. Airport pickup point has most 'no car available'\n",
        "2. City pickup point has highest 'Cancelled' status\n",
        "3. 'Airport' - has the hightest request in the 'evening' aligning to our 'no car available' status\n",
        "4. 'City'- has the hightest request in the 'morning' aligning to our 'Cancelled' status.\n",
        "\n"
      ]
    },
    {
      "cell_type": "markdown",
      "metadata": {
        "id": "bbnHt6i-Jpks"
      },
      "source": [
        "### Supply and demand gap calculation"
      ]
    },
    {
      "cell_type": "code",
      "metadata": {
        "id": "2sSj7p0UJpks"
      },
      "source": [
        "#creating demand column\n",
        "uber.loc[(uber.Status == 'Trip Completed') | (uber.Status == 'Cancelled')| (uber.Status == 'No Cars Available'), 'demand'] = 'Demand' "
      ],
      "execution_count": null,
      "outputs": []
    },
    {
      "cell_type": "code",
      "metadata": {
        "id": "CkGwKC0AJpks"
      },
      "source": [
        "#creating supply column\n",
        "uber.loc[(uber.Status == 'Trip Completed'), 'supply'] = 'Supply'"
      ],
      "execution_count": null,
      "outputs": []
    },
    {
      "cell_type": "code",
      "metadata": {
        "id": "Ydt3WRsPJpks"
      },
      "source": [
        "#creating gap column\n",
        "uber.loc[(uber.Status == 'Cancelled')| (uber.Status == 'No Cars Available'), 'gap'] = 'Gap' "
      ],
      "execution_count": null,
      "outputs": []
    },
    {
      "cell_type": "code",
      "metadata": {
        "colab": {
          "base_uri": "https://localhost:8080/",
          "height": 309
        },
        "id": "H90rlsYoJpks",
        "outputId": "f70bac35-710c-415c-d350-cd0c44516726"
      },
      "source": [
        "uber.head()"
      ],
      "execution_count": null,
      "outputs": [
        {
          "output_type": "execute_result",
          "data": {
            "text/html": [
              "<div>\n",
              "<style scoped>\n",
              "    .dataframe tbody tr th:only-of-type {\n",
              "        vertical-align: middle;\n",
              "    }\n",
              "\n",
              "    .dataframe tbody tr th {\n",
              "        vertical-align: top;\n",
              "    }\n",
              "\n",
              "    .dataframe thead th {\n",
              "        text-align: right;\n",
              "    }\n",
              "</style>\n",
              "<table border=\"1\" class=\"dataframe\">\n",
              "  <thead>\n",
              "    <tr style=\"text-align: right;\">\n",
              "      <th></th>\n",
              "      <th>Request_id</th>\n",
              "      <th>Pickup_point</th>\n",
              "      <th>Driver_id</th>\n",
              "      <th>Status</th>\n",
              "      <th>request_Date_Time</th>\n",
              "      <th>drop_Date_Time</th>\n",
              "      <th>request_Date</th>\n",
              "      <th>request_Time</th>\n",
              "      <th>weekname</th>\n",
              "      <th>request_hour</th>\n",
              "      <th>request_timeslot</th>\n",
              "      <th>drop_Date</th>\n",
              "      <th>drop_Time</th>\n",
              "      <th>demand</th>\n",
              "      <th>supply</th>\n",
              "      <th>gap</th>\n",
              "    </tr>\n",
              "  </thead>\n",
              "  <tbody>\n",
              "    <tr>\n",
              "      <th>0</th>\n",
              "      <td>619</td>\n",
              "      <td>Airport</td>\n",
              "      <td>1.0</td>\n",
              "      <td>Trip Completed</td>\n",
              "      <td>2016-07-11 11:51:00</td>\n",
              "      <td>2016-07-11 13:00:00</td>\n",
              "      <td>2016-07-11</td>\n",
              "      <td>11:51:00</td>\n",
              "      <td>Monday</td>\n",
              "      <td>11</td>\n",
              "      <td>Morning</td>\n",
              "      <td>2016-07-11</td>\n",
              "      <td>13:00:00</td>\n",
              "      <td>Demand</td>\n",
              "      <td>Supply</td>\n",
              "      <td>NaN</td>\n",
              "    </tr>\n",
              "    <tr>\n",
              "      <th>1</th>\n",
              "      <td>867</td>\n",
              "      <td>Airport</td>\n",
              "      <td>1.0</td>\n",
              "      <td>Trip Completed</td>\n",
              "      <td>2016-07-11 17:57:00</td>\n",
              "      <td>2016-07-11 18:47:00</td>\n",
              "      <td>2016-07-11</td>\n",
              "      <td>17:57:00</td>\n",
              "      <td>Monday</td>\n",
              "      <td>17</td>\n",
              "      <td>Afternoon</td>\n",
              "      <td>2016-07-11</td>\n",
              "      <td>18:47:00</td>\n",
              "      <td>Demand</td>\n",
              "      <td>Supply</td>\n",
              "      <td>NaN</td>\n",
              "    </tr>\n",
              "    <tr>\n",
              "      <th>2</th>\n",
              "      <td>1807</td>\n",
              "      <td>City</td>\n",
              "      <td>1.0</td>\n",
              "      <td>Trip Completed</td>\n",
              "      <td>2016-07-12 09:17:00</td>\n",
              "      <td>2016-07-12 09:58:00</td>\n",
              "      <td>2016-07-12</td>\n",
              "      <td>09:17:00</td>\n",
              "      <td>Tuesday</td>\n",
              "      <td>9</td>\n",
              "      <td>Morning</td>\n",
              "      <td>2016-07-12</td>\n",
              "      <td>09:58:00</td>\n",
              "      <td>Demand</td>\n",
              "      <td>Supply</td>\n",
              "      <td>NaN</td>\n",
              "    </tr>\n",
              "    <tr>\n",
              "      <th>3</th>\n",
              "      <td>2532</td>\n",
              "      <td>Airport</td>\n",
              "      <td>1.0</td>\n",
              "      <td>Trip Completed</td>\n",
              "      <td>2016-07-12 21:08:00</td>\n",
              "      <td>2016-07-12 22:03:00</td>\n",
              "      <td>2016-07-12</td>\n",
              "      <td>21:08:00</td>\n",
              "      <td>Tuesday</td>\n",
              "      <td>21</td>\n",
              "      <td>Night</td>\n",
              "      <td>2016-07-12</td>\n",
              "      <td>22:03:00</td>\n",
              "      <td>Demand</td>\n",
              "      <td>Supply</td>\n",
              "      <td>NaN</td>\n",
              "    </tr>\n",
              "    <tr>\n",
              "      <th>4</th>\n",
              "      <td>3112</td>\n",
              "      <td>City</td>\n",
              "      <td>1.0</td>\n",
              "      <td>Trip Completed</td>\n",
              "      <td>2016-07-13 08:33:16</td>\n",
              "      <td>2016-07-13 09:25:47</td>\n",
              "      <td>2016-07-13</td>\n",
              "      <td>08:33:16</td>\n",
              "      <td>Wednesday</td>\n",
              "      <td>8</td>\n",
              "      <td>Morning</td>\n",
              "      <td>2016-07-13</td>\n",
              "      <td>09:25:47</td>\n",
              "      <td>Demand</td>\n",
              "      <td>Supply</td>\n",
              "      <td>NaN</td>\n",
              "    </tr>\n",
              "  </tbody>\n",
              "</table>\n",
              "</div>"
            ],
            "text/plain": [
              "   Request_id Pickup_point  Driver_id  ...  demand  supply  gap\n",
              "0         619      Airport        1.0  ...  Demand  Supply  NaN\n",
              "1         867      Airport        1.0  ...  Demand  Supply  NaN\n",
              "2        1807         City        1.0  ...  Demand  Supply  NaN\n",
              "3        2532      Airport        1.0  ...  Demand  Supply  NaN\n",
              "4        3112         City        1.0  ...  Demand  Supply  NaN\n",
              "\n",
              "[5 rows x 16 columns]"
            ]
          },
          "metadata": {
            "tags": []
          },
          "execution_count": 42
        }
      ]
    },
    {
      "cell_type": "code",
      "metadata": {
        "colab": {
          "base_uri": "https://localhost:8080/"
        },
        "id": "y5GJWznGJpkt",
        "outputId": "33fab18f-6cd8-4083-d5df-e23d2430b4a0"
      },
      "source": [
        "#calculating demand count\n",
        "uber['demand'].count()"
      ],
      "execution_count": null,
      "outputs": [
        {
          "output_type": "execute_result",
          "data": {
            "text/plain": [
              "6745"
            ]
          },
          "metadata": {
            "tags": []
          },
          "execution_count": 43
        }
      ]
    },
    {
      "cell_type": "code",
      "metadata": {
        "colab": {
          "base_uri": "https://localhost:8080/"
        },
        "id": "qvACpMA5Jpkt",
        "outputId": "0090ddd8-36b2-42a0-a264-905a733d0555"
      },
      "source": [
        "#calculating supply count\n",
        "uber['supply'].count()"
      ],
      "execution_count": null,
      "outputs": [
        {
          "output_type": "execute_result",
          "data": {
            "text/plain": [
              "2831"
            ]
          },
          "metadata": {
            "tags": []
          },
          "execution_count": 44
        }
      ]
    },
    {
      "cell_type": "code",
      "metadata": {
        "colab": {
          "base_uri": "https://localhost:8080/"
        },
        "id": "V-vfwKMeJpkt",
        "outputId": "baed0fca-c1f5-4dac-c9b3-1674f638f8b4"
      },
      "source": [
        "#calculating gap count\n",
        "uber['gap'].count()"
      ],
      "execution_count": null,
      "outputs": [
        {
          "output_type": "execute_result",
          "data": {
            "text/plain": [
              "3914"
            ]
          },
          "metadata": {
            "tags": []
          },
          "execution_count": 45
        }
      ]
    },
    {
      "cell_type": "code",
      "metadata": {
        "colab": {
          "base_uri": "https://localhost:8080/",
          "height": 204
        },
        "id": "18ZbUR8sJpkt",
        "outputId": "08749a2e-dcfa-48f8-c0b2-be976de07438"
      },
      "source": [
        "uber_SupplyandDemand = pd.DataFrame([uber.demand,uber.supply,uber.gap]).transpose()\n",
        "uber_SupplyandDemand.head()"
      ],
      "execution_count": null,
      "outputs": [
        {
          "output_type": "execute_result",
          "data": {
            "text/html": [
              "<div>\n",
              "<style scoped>\n",
              "    .dataframe tbody tr th:only-of-type {\n",
              "        vertical-align: middle;\n",
              "    }\n",
              "\n",
              "    .dataframe tbody tr th {\n",
              "        vertical-align: top;\n",
              "    }\n",
              "\n",
              "    .dataframe thead th {\n",
              "        text-align: right;\n",
              "    }\n",
              "</style>\n",
              "<table border=\"1\" class=\"dataframe\">\n",
              "  <thead>\n",
              "    <tr style=\"text-align: right;\">\n",
              "      <th></th>\n",
              "      <th>demand</th>\n",
              "      <th>supply</th>\n",
              "      <th>gap</th>\n",
              "    </tr>\n",
              "  </thead>\n",
              "  <tbody>\n",
              "    <tr>\n",
              "      <th>0</th>\n",
              "      <td>Demand</td>\n",
              "      <td>Supply</td>\n",
              "      <td>NaN</td>\n",
              "    </tr>\n",
              "    <tr>\n",
              "      <th>1</th>\n",
              "      <td>Demand</td>\n",
              "      <td>Supply</td>\n",
              "      <td>NaN</td>\n",
              "    </tr>\n",
              "    <tr>\n",
              "      <th>2</th>\n",
              "      <td>Demand</td>\n",
              "      <td>Supply</td>\n",
              "      <td>NaN</td>\n",
              "    </tr>\n",
              "    <tr>\n",
              "      <th>3</th>\n",
              "      <td>Demand</td>\n",
              "      <td>Supply</td>\n",
              "      <td>NaN</td>\n",
              "    </tr>\n",
              "    <tr>\n",
              "      <th>4</th>\n",
              "      <td>Demand</td>\n",
              "      <td>Supply</td>\n",
              "      <td>NaN</td>\n",
              "    </tr>\n",
              "  </tbody>\n",
              "</table>\n",
              "</div>"
            ],
            "text/plain": [
              "   demand  supply  gap\n",
              "0  Demand  Supply  NaN\n",
              "1  Demand  Supply  NaN\n",
              "2  Demand  Supply  NaN\n",
              "3  Demand  Supply  NaN\n",
              "4  Demand  Supply  NaN"
            ]
          },
          "metadata": {
            "tags": []
          },
          "execution_count": 46
        }
      ]
    },
    {
      "cell_type": "code",
      "metadata": {
        "colab": {
          "base_uri": "https://localhost:8080/",
          "height": 502
        },
        "id": "ePXAPEZ5Jpku",
        "outputId": "5fbd6366-5824-4ff1-8d16-91ad2b8f5fee"
      },
      "source": [
        "# plotting demand, supply and gap count\n",
        "plt.figure(num=None, figsize=(8, 8), facecolor='w', edgecolor='k')\n",
        "sns.countplot(x=\"variable\",hue=\"value\", data=pd.melt(uber_SupplyandDemand))\n",
        "plt.show()\n",
        "\n",
        "#this clearly shows that gap exist and there is huge possible to bridge the gap and increase the revenue.\n",
        "# Gap = Demand -Supply\n",
        "#Around 58.02% of 'gap' exist."
      ],
      "execution_count": null,
      "outputs": [
        {
          "output_type": "display_data",
          "data": {
            "image/png": "[encoded data removed]",
            "text/plain": [
              "<Figure size 576x576 with 1 Axes>"
            ]
          },
          "metadata": {
            "tags": []
          }
        }
      ]
    },
    {
      "cell_type": "code",
      "metadata": {
        "colab": {
          "base_uri": "https://localhost:8080/",
          "height": 502
        },
        "id": "cg90V2hIJpku",
        "outputId": "79966bd8-8fb1-4f11-9d54-5428dbc48c1b"
      },
      "source": [
        "#segmenting demand across the request time slot\n",
        "plt.figure(num=None, figsize=(12, 8), facecolor='w', edgecolor='k')\n",
        "sns.countplot(hue='demand',x=\"request_timeslot\", data=uber)\n",
        "plt.show()\n",
        "\n",
        "#Below graph shows that morning and evening has the hightest demand for cabs"
      ],
      "execution_count": null,
      "outputs": [
        {
          "output_type": "display_data",
          "data": {
            "image/png": "[encoded data removed]",
            "text/plain": [
              "<Figure size 864x576 with 1 Axes>"
            ]
          },
          "metadata": {
            "tags": []
          }
        }
      ]
    },
    {
      "cell_type": "code",
      "metadata": {
        "colab": {
          "base_uri": "https://localhost:8080/",
          "height": 502
        },
        "id": "yrHDie39Jpku",
        "outputId": "98f317fd-a074-42e7-9036-fb9e7ecc9f60"
      },
      "source": [
        "#segmenting gap across the request time slot\n",
        "plt.figure(num=None, figsize=(12, 8), facecolor='w', edgecolor='k')\n",
        "ax =sns.countplot(x='gap',hue=\"request_timeslot\", data=uber)\n",
        "total = len(uber['gap'])\n",
        "for p in ax.patches:\n",
        "    value = round((p.get_height()/total)*100,2)\n",
        "    X = p.get_x()+0.1\n",
        "    Y = p.get_height()+10\n",
        "    ax.text(X, Y, '{:} %'.format(value), ha=\"right\")\n",
        "plt.show()\n",
        "\n",
        "#This shows that gap is mainly in the morning and evening time slot, which again is in sync with all our above findings.\n"
      ],
      "execution_count": null,
      "outputs": [
        {
          "output_type": "display_data",
          "data": {
            "image/png": "[encoded data removed]",
            "text/plain": [
              "<Figure size 864x576 with 1 Axes>"
            ]
          },
          "metadata": {
            "tags": []
          }
        }
      ]
    },
    {
      "cell_type": "markdown",
      "metadata": {
        "id": "y9IsBMMbJpkv"
      },
      "source": [
        "#### In the above graph - the percentage is taken only across the total gap percentage which is 58.02%\n",
        "\n",
        "    a. From the total gap percentage(58.02%) -around 15% gap exist during morning and evenings.\n"
      ]
    },
    {
      "cell_type": "code",
      "metadata": {
        "colab": {
          "base_uri": "https://localhost:8080/",
          "height": 526
        },
        "id": "UuK2_DRSJpkv",
        "outputId": "2ad9fdb5-c922-49df-9893-f5a6b912c566"
      },
      "source": [
        "#segmenting gap across the status and request timeslot\n",
        "sns.catplot(x='request_timeslot',col=\"gap\", hue = 'Status',data=uber ,kind=\"count\", height=7,aspect= 0.9,ci=85)\n",
        "plt.show()\n",
        "\n",
        "\n",
        "#As gap is sum of (cancelled + No cars available) : We can see that there is no plot in trip completed(Obvious).\n",
        "# Hightest 'cancelled' gap comes from morning slot.\n",
        "# Hightest 'No car available' gap comes from evening slot."
      ],
      "execution_count": null,
      "outputs": [
        {
          "output_type": "display_data",
          "data": {
            "image/png": "[encoded data removed]",
            "text/plain": [
              "<Figure size 590.075x504 with 1 Axes>"
            ]
          },
          "metadata": {
            "tags": []
          }
        }
      ]
    },
    {
      "cell_type": "code",
      "metadata": {
        "colab": {
          "base_uri": "https://localhost:8080/",
          "height": 382
        },
        "id": "QLupsZ-ZJpkv",
        "outputId": "1dc15150-31e6-483d-e043-0e263c652a5e"
      },
      "source": [
        "#segmenting gap across the pickup point and request timeslot\n",
        "sns.catplot(x='gap',col=\"request_timeslot\", hue = 'Pickup_point',data=uber ,kind=\"count\", height=5,aspect= 0.5,\n",
        "            ci=85)\n",
        "plt.show()\n",
        "\n",
        "\n",
        "# the graph belows shows that:\n",
        "# 1.In the morning, City pickup has the highest gap.\n",
        "# 2. in the evening, Airport pickup has the highest gap."
      ],
      "execution_count": null,
      "outputs": [
        {
          "output_type": "display_data",
          "data": {
            "image/png": "[encoded data removed]",
            "text/plain": [
              "<Figure size 1164.05x360 with 6 Axes>"
            ]
          },
          "metadata": {
            "tags": []
          }
        }
      ]
    },
    {
      "cell_type": "code",
      "metadata": {
        "colab": {
          "base_uri": "https://localhost:8080/",
          "height": 1000
        },
        "id": "hUEYBpZ4Jpkw",
        "outputId": "51c72a23-f6a6-4e19-a897-753d1814e072"
      },
      "source": [
        "#segmenting the gap across the request hour and pickup point\n",
        "#plt.figure(num=None, figsize=(13, 5), facecolor='w', edgecolor='k')\n",
        "sns.catplot(x='request_hour',col=\"Pickup_point\", hue = 'gap',data=uber ,kind=\"count\", height=10,aspect= 0.5,\n",
        "            ci=85,col_wrap=1,palette=sns.color_palette(['orange']))\n",
        "plt.show()\n",
        "\n",
        "\n",
        "# the graph belows shows that:\n",
        "# 1. Airport has hightest gap at 17-21 hours which is evening hours\n",
        "# 2. City has hightest gap at 5-9am hours which is morning hours\n",
        "# And vice versa is not true"
      ],
      "execution_count": null,
      "outputs": [
        {
          "output_type": "display_data",
          "data": {
            "image/png": "[encoded data removed]",
            "text/plain": [
              "<Figure size 421.85x1440 with 2 Axes>"
            ]
          },
          "metadata": {
            "tags": []
          }
        }
      ]
    },
    {
      "cell_type": "markdown",
      "metadata": {
        "id": "d6T5i5xkJpkw"
      },
      "source": [
        "### Observation so far:\n",
        "\n",
        "The problematic status are 'cancelled' and 'no cars available' as it leads to potential loss of revenue. We observed the hightest value of:\n",
        "\n",
        "    Status: \"No car available\"\n",
        "    Where is it happening: Airport - i.e airport to city\n",
        "    When is it happening: Evening \n",
        "\n",
        "    Status: \"Cancelled\"\n",
        "    Where is it happening: City - i.e city to airport\n",
        "    When is it happening: Morning\n",
        "\n",
        "The above points are in sync with highest request rates coming from morning and evening slot.\n",
        "\n",
        "To make our analayse our observation so far, we further looked into the 'gap'. This again is in sync with above observations.\n",
        "The 'gap' which exists are the hightest:\n",
        " \n",
        "    Status: \"No car available\"\n",
        "    Where is it happening: Airport - i.e airport to city\n",
        "    When is it happening: Evening \n",
        "\n",
        "    Status: \"Cancelled\"\n",
        "    Where is it happening: City - i.e city to airport\n",
        "    When is it happening: Morning. \n",
        "\n",
        "And vice versa is not true:\n",
        "\n",
        "       1. Morning hours :There is no high demand for cabs from airport to city \n",
        "       2. Evening hours: There is no high demand for cabs from city to airport\n",
        "       \n",
        "This tells us that there are more outbound flights in the morning and inbound flights in the evening.       \n",
        "\n"
      ]
    },
    {
      "cell_type": "markdown",
      "metadata": {
        "id": "fQ9qVh4XJpkw"
      },
      "source": [
        "### The reason for the issue:\n",
        "\n",
        "    In the morning hours: Though there is high demand for cabs from city to airport, the vice versa is not true.\n",
        "                          Hence the driver tends to 'cancel' the request as getting a return trip from airport \n",
        "                          to city would be tough.\n",
        "    \n",
        "    In the evening hours: Though there is high demand for cabs from airport to city, the vice versa is not true.\n",
        "                          Hence 'no cars available' in the airport is the hightest in the evening."
      ]
    },
    {
      "cell_type": "markdown",
      "metadata": {
        "id": "XxBhgPrkJpkw"
      },
      "source": [
        "### Possible suggestions to fill the supply demand gap:\n",
        "\n",
        "1. Provide incentives for airport trips during peak time.\n",
        "2. Assigning few extra cabs specially to the airport trips.\n",
        "6. Promote advance booking to airports and at the same time keeping drivers updated will the flight schedule with help them plan their work and they can accept the request as per their work plan.\n",
        "\n",
        "    \n",
        "        "
      ]
    }
  ]
}